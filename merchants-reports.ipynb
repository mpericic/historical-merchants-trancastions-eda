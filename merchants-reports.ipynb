{
 "cells": [
  {
   "cell_type": "markdown",
   "metadata": {},
   "source": [
    "## Exploratory Data Analysis Of Merchant Historical Transactions\n",
    "\n",
    "### Introduction\n",
    "\n",
    "The goal of this exploratory data analysis is to gain an understanding of the merchant transactions dataset, which contains detailed records of historical transactions. By analyzing this data, I aim to uncover key insights related to merchant popularity, geographical trends, sales performance, and other factors that could impact a merchant’s business.\n",
    "\n",
    "Throughout this analysis, I will focus on answering important questions such as:\n",
    "\n",
    "- Insight into monthly merchant sales for each city in the dataset\n",
    "- Merchant popularity and their locations\n",
    "- What are the most popular merchant categories?\n",
    "- Are there correlations between merchant categories and specific locations?\n",
    "\n",
    "\n",
    "### Familiarizing with the Dataset\n",
    "\n",
    "In this analysis, two key data sources were used: **a Merchants CSV file** and **a Historical Transactions Parquet** file. Each dataset was explored and cleaned to prepare for the subsequent analysis.\n",
    "\n",
    "**1. Merchants CSV**\n",
    "- Total rows: 334,696\n",
    "- Distinct merchant IDs: 334,633\n",
    "\n",
    "After analysis of the dataset and its relation to the historical transactions, it was decided to **drop non-distinct merchant IDs**. Although this resulted in the loss of some merchant names, it was beneficial for simplifying the join operation with the historical transactions. By removing duplicates, we avoided having a many-to-many relationship during the join, improving the **precision of numerical values** when calculating total sums. The cleaned Merchants CSV dataset was used for further analysis.\n",
    "\n",
    "**2. Historical Transactions Parquet File**\n",
    "- Total rows: 7,274,367\n",
    "- Null merchant IDs: 34,570\n",
    "- Null categories: 44,625\n",
    "\n",
    "For the historical transactions dataset, the following steps were taken:\n",
    "\n",
    "- Handling Null Merchant IDs: Rows with null merchant IDs got this column replaced by a newly generated merchant IDs, as the other data in these rows were valuable for the analysis.\n",
    "- Handling Null Categories: Rows with null categories had these values replaced to \"Unknown category\" to avoid losing useful data.\n",
    "- Column Renaming: Certain columns were renamed for better readability and ease of use when joining the historical transactions with the merchants dataset.\n",
    "- Date Processing: The purchase_amount_date column was split into year, month, and hour for easier grouping and analysis.\n",
    "\n",
    "**3. Joining the Datasets**\n",
    "\n",
    "The Merchants CSV dataset was left joined to the Historical Transactions dataset on the **merchant_id** column. A few specific transformations were applied during this process:\n",
    "\n",
    "- Handling Null Merchant Names: For historical transactions with no matching merchant in the merchants dataset (resulting in merchant_name being null), the merchant_id was used as the merchant_name to retain the usefulness of these rows.\n",
    "- Handling City and State IDs: Some rows in the merchants dataset had missing or invalid city_id and state_id values (null or -1), while the same merchants had proper city and state IDs in the historical transactions. To resolve this:\n",
    "    - A new final_city_id and final_state_id column was introduced.\n",
    "    - If the city_id and state_id were available in the historical transactions, these values were used.\n",
    "    - If the information was missing in the historical transactions, the values from the merchants dataset were used.\n",
    "    - If neither dataset contained valid values, -1 was assigned to both the final_city_id and final_state_id.\n",
    "\n",
    "\n",
    "These steps ensured that the dataset was clean, consistent, and ready for detailed analysis."
   ]
  },
  {
   "cell_type": "markdown",
   "metadata": {},
   "source": [
    "Following code cell represents cleaning and transformation mentioned in the familiarization with the dataset and as well the base that all the reports use."
   ]
  },
  {
   "cell_type": "code",
   "execution_count": 30,
   "metadata": {},
   "outputs": [],
   "source": [
    "from pyspark.sql import SparkSession\n",
    "from pyspark.sql import functions as F\n",
    "from pyspark.sql.window import Window\n",
    "\n",
    "def create_spark_session():\n",
    "    return SparkSession.builder \\\n",
    "        .appName(\"MyApp\") \\\n",
    "        .master(\"local[*]\") \\\n",
    "        .config(\"spark.sql.warehouse.dir\", \"/tmp\") \\\n",
    "        .config(\"spark.hadoop.security.authentication\", \"simple\") \\\n",
    "        .config(\"spark.ui.showConsoleProgress\", \"false\") \\\n",
    "        .getOrCreate()\n",
    "\n",
    "def merge_columns(col1, col2):\n",
    "    return F.when(F.col(col1).isNotNull() & (F.col(col1) != -1), F.col(col1)) \\\n",
    "            .otherwise(F.when(F.col(col2).isNotNull() & (F.col(col2) != -1), F.col(col2))\n",
    "            .otherwise(F.lit(-1))\n",
    "        )\n",
    "\n",
    "def replace_null_merchant_name_with_id(df):\n",
    "    df_filled = df.withColumn(\n",
    "        \"merchant_name\",\n",
    "        F.when(F.col(\"merchant_name\").isNull(), F.col(\"ht_merchant_id\"))\n",
    "        .otherwise(F.col(\"merchant_name\"))\n",
    "    )\n",
    "    \n",
    "    return df_filled\n",
    "\n",
    "def rename_ht_columns_for_join(df):\n",
    "    return df.withColumnRenamed(\"merchant_id\", \"ht_merchant_id\") \\\n",
    "             .withColumnRenamed(\"city_id\", \"ht_city_id\") \\\n",
    "             .withColumnRenamed(\"state_id\", \"ht_state_id\")\n",
    "\n",
    "def generate_id_for_null_values(df):\n",
    "    return df.withColumn(\n",
    "            \"merchant_id\",\n",
    "            F.when(F.col(\"merchant_id\").isNull(), F.concat(F.lit(\"G_ID_\"), F.expr(\"substring(cast(monotonically_increasing_id() as string), -10, 10)\")))\n",
    "            .otherwise(F.col(\"merchant_id\"))\n",
    "        )\n",
    "\n",
    "def initialize_null_categories(df):\n",
    "    return df.na.fill(\"Unknown category\", subset=[\"category\"])\n",
    "\n",
    "def parse_date_column(df):\n",
    "    df = df.withColumn(\"date\", F.to_date(\"purchase_date\", \"yyyy-MM-dd HH:mm:ss\"))\n",
    "    return df.withColumn(\"year\", F.year(\"date\")) \\\n",
    "             .withColumn(\"month\", F.month(\"date\")) \\\n",
    "             .withColumn(\"hour\", F.hour(F.col(\"purchase_date\")))\n",
    "\n",
    "\n",
    "parquet_file_path = \"historical-transactions.snappy.parquet\"\n",
    "csv_file_path = \"merchants-subset.csv\"\n",
    "spark = create_spark_session()\n",
    "\n",
    "df_historical_merchants_transactions = spark.read.parquet(parquet_file_path)\n",
    "df_merchants = spark.read.format(\"csv\").option(\"header\", \"true\").option(\"inferSchema\", \"true\").load(csv_file_path)\n",
    "\n",
    "df_merchants = df_merchants.dropDuplicates([\"merchant_id\"])\n",
    "df_historical_merchants_transactions = generate_id_for_null_values(df_historical_merchants_transactions)\n",
    "df_historical_merchants_transactions = initialize_null_categories(df_historical_merchants_transactions)\n",
    "df_historical_merchants_transactions = rename_ht_columns_for_join(df_historical_merchants_transactions)\n",
    "\n",
    "joined_df = df_historical_merchants_transactions.join(df_merchants, df_historical_merchants_transactions[\"ht_merchant_id\"] == df_merchants[\"merchant_id\"], \"left\")\n",
    "\n",
    "joined_df = joined_df.withColumn(\"final_city_id\", merge_columns(\"ht_city_id\", \"city_id\")) \\\n",
    "                     .withColumn(\"final_state_id\", merge_columns(\"ht_state_id\", \"state_id\"))\n",
    "\n",
    "joined_df = parse_date_column(joined_df)\n",
    "joined_df = replace_null_merchant_name_with_id(joined_df)"
   ]
  },
  {
   "cell_type": "markdown",
   "metadata": {},
   "source": [
    "### TOP FIVE MERCHANTS FOR EACH MONTH IN THE DATASET, FOR EACH CITY IN THE DATASET\n",
    "\n",
    "The goal of this task was to identify the top five merchants by total sales for each month and for each city in the dataset. To achieve this, I've done the following:\n",
    "\n",
    "- Grouped the transactions by **year**, **month**, **final_city_id**, and **merchant_id** to aggregate the total sales and number of sales for each merchant in each city during each month.\n",
    "- Using a window function partitioned by **year**, **month**, and **final_city_id**, I ranked the merchants in descending order based on their total sales. This allows us to assign ranks to each merchant within their respective city and month. After assigning ranks, I filtered the results to keep only the **top 5 merchants for each city in each month**.\n",
    "- I then sorted the results by year, month, final_city_id, and rank, ensuring that the final output would be organized for easy interpretation. The total_sales column was formatted to two decimal places, and a new month_year column was created to improve readability in the final report.\n",
    "\n",
    "Deduction that can be done based on the report:\n",
    "\n",
    "- Merchant dominance in cities\n",
    "    - Which merchants consistently perform well in certain cities. For example if a merchant frequently appears in the top five across multiple months, it suggests its high value and this information could be useful for different business strategies.\n",
    "- Seasonal or Monthly Trends:\n",
    "    - By examining the top merchants across months, we can identify whether certain merchants experience seasonal sales peaks. Merchants in certain categories my dominate sales during particular months. (Holidays, special events)\n",
    "- Cities with a high concentration of top-performing merchants might indicate stronger markets for certain industries and categories. \n",
    "\n"
   ]
  },
  {
   "cell_type": "code",
   "execution_count": 31,
   "metadata": {},
   "outputs": [
    {
     "name": "stdout",
     "output_type": "stream",
     "text": [
      "+--------+----+--------------------+--------------+-----------+\n",
      "|   Month|City|            Merchant|Purchase Total|No of sales|\n",
      "+--------+----+--------------------+--------------+-----------+\n",
      "|Jan 2018|   1|  Kathie Sughrue inc|267,943,521.12|      13326|\n",
      "|Jan 2018|   1|      Cesar Hall inc|192,160,428.46|       9557|\n",
      "|Jan 2018|   1|     Mary Gray 7 inc|102,481,787.09|       5072|\n",
      "|Jan 2018|   1| David Gunstream inc| 51,971,242.09|       2572|\n",
      "|Jan 2018|   1|  Steven Russell inc| 47,455,288.85|       2342|\n",
      "|Jan 2018|   2|     Shana Platt inc|    603,751.09|         28|\n",
      "|Jan 2018|   2|    James Luhman inc|    468,621.16|         23|\n",
      "|Jan 2018|   2|   Charles Budde inc|    306,296.72|         16|\n",
      "|Jan 2018|   2|Ernesto Matthews inc|    293,381.94|         13|\n",
      "|Jan 2018|   2|  Cristal Forney inc|    252,781.38|         13|\n",
      "|Jan 2018|   3|Rhonda Cunningham...|    885,905.56|         44|\n",
      "|Jan 2018|   3| Donnie Sefcovic inc|    778,974.19|         35|\n",
      "|Jan 2018|   3| Dennis Mcmillan inc|    693,955.55|         35|\n",
      "|Jan 2018|   3|Solomon Deshayes inc|    686,340.97|         31|\n",
      "|Jan 2018|   3|Robert Harrison 7...|    674,059.55|         37|\n",
      "|Jan 2018|   4|   Louise Cole 2 inc|  3,572,448.30|        179|\n",
      "|Jan 2018|   4|      Juan Niemi inc|  2,504,278.60|        126|\n",
      "|Jan 2018|   4|    Mary Perry 8 inc|  2,140,599.59|        112|\n",
      "|Jan 2018|   4|Nathaniel Stewart...|  2,085,347.06|        112|\n",
      "|Jan 2018|   4|   Katie Farwell inc|  1,931,717.68|         99|\n",
      "|Jan 2018|   6|      Eva Mcnear inc|    644,610.76|         29|\n",
      "|Jan 2018|   6|Elizabeth Mueller...|    366,271.67|         17|\n",
      "|Jan 2018|   6|   Edna Bailey 2 inc|    320,544.56|         15|\n",
      "|Jan 2018|   6|  Jack Mcsweeney inc|    304,164.20|         18|\n",
      "|Jan 2018|   6|    Robert Reper inc|    292,718.56|         16|\n",
      "|Jan 2018|   7|      Joe Powell inc|    620,001.08|         30|\n",
      "|Jan 2018|   7|Sheila Bissonnett...|    559,804.99|         30|\n",
      "|Jan 2018|   7|        Don Lenz inc|    520,281.07|         29|\n",
      "|Jan 2018|   7|Florence Williams...|    370,296.53|         16|\n",
      "|Jan 2018|   7| Armand Humphrey inc|    346,327.18|         16|\n",
      "+--------+----+--------------------+--------------+-----------+\n",
      "only showing top 30 rows\n",
      "\n"
     ]
    }
   ],
   "source": [
    "df_grouped = joined_df.groupBy(\"year\", \"month\", \"final_city_id\", \"merchant_id\") \\\n",
    "                            .agg(F.sum(\"purchase_amount\").alias(\"total_sales\"),\n",
    "                                 F.count(\"purchase_amount\").alias(\"no_of_sales\"),\n",
    "                                 F.first(\"merchant_name\").alias(\"merchant_name\"))\n",
    "\n",
    "window_spec = Window.partitionBy(\"year\", \"month\", \"final_city_id\").orderBy(F.desc(\"total_sales\"))\n",
    "df_ranked = df_grouped.withColumn(\"rank\", F.rank().over(window_spec))\n",
    "\n",
    "\n",
    "df_top_5 = df_ranked.filter(F.col(\"rank\") <= 5)\n",
    "\n",
    "df_sorted = df_top_5.orderBy(F.col(\"year\").desc(),F.col(\"month\").asc(),F.col(\"final_city_id\").asc(),F.col(\"rank\").asc())\n",
    "\n",
    "df_sorted = df_sorted.withColumn(\"total_sales\", F.format_number(\"total_sales\", 2))\n",
    "df_formatted = df_sorted.withColumn(\n",
    "    \"month_year\",\n",
    "    F.concat(F.date_format(F.concat(F.col(\"year\"), F.lit(\"-\"), F.col(\"month\")), \"MMM\"), F.lit(\" \"), F.col(\"year\"))\n",
    ")\n",
    "\n",
    "df_final_report_select = df_formatted.select(\n",
    "    F.col(\"month_year\").alias(\"Month\"),\n",
    "    F.col(\"final_city_id\").alias(\"City\"),\n",
    "    F.col(\"merchant_name\").alias(\"Merchant\"),\n",
    "    F.col(\"total_sales\").alias(\"Purchase Total\"),\n",
    "    F.col(\"no_of_sales\").alias(\"No of sales\")\n",
    "    )\n",
    "\n",
    "df_final_report_select.show(30)\n"
   ]
  },
  {
   "cell_type": "markdown",
   "metadata": {},
   "source": [
    "### AVERAGE SALE AMOUNT FOR EACH MERCHANT IN EACH STATE, ORDERED  BY LARGEST AVERAGE SALES.\n",
    "\n",
    "Deduction that can be done based on the report:\n",
    "\n",
    "If a merchant appears in the top spots in many states, this could mean that their business model works well across different regions, and they have a product or service that appeals to a broad group of people willing to make expensive purchases. This means:\n",
    "\n",
    "- The merchant's product or services might be valuable to people in many places indicating they are a popular brand.\n",
    "- People in multiple states are spending more money with these merchants compared to others meaning that the mearchant has a wider appeal with consumers who don't mind spending a lot in one go.\n",
    "\n",
    "If a new merchant approached us for consultancy regarding their business, I would use this report to analyze similar business models and how well they perform across different states. By examining merchants with comparable products or services, we could provide insights into where the business might thrive and suggest optimal locations for expansion based on the performance of similar merchants in various regions.\n"
   ]
  },
  {
   "cell_type": "code",
   "execution_count": 32,
   "metadata": {},
   "outputs": [
    {
     "name": "stdout",
     "output_type": "stream",
     "text": [
      "+--------------------+--------+--------------+\n",
      "|            Merchant|State ID|Average Amount|\n",
      "+--------------------+--------+--------------+\n",
      "|  Martha Tyrrell inc|       7|     39,937.61|\n",
      "|  Julie Mckelvey inc|       9|     39,727.59|\n",
      "|   Jennifer Pool inc|      24|     39,658.71|\n",
      "|    Ileana Owens inc|       9|     39,649.56|\n",
      "|  Robert Mullins inc|      15|     39,642.69|\n",
      "|Christopher Hamil...|      20|     39,602.72|\n",
      "|      Raul Creed inc|       2|     39,569.62|\n",
      "|    Samuel Evans inc|      15|     39,558.60|\n",
      "|  Dawn Ellington inc|      16|     39,556.68|\n",
      "|   Pamela Ulrich inc|      13|     39,556.68|\n",
      "| Mario Marroquin inc|       5|     39,550.66|\n",
      "| Gertrude Leslie inc|       5|     39,541.60|\n",
      "|   Dorothy Zemel inc|      16|     39,532.16|\n",
      "|William Harris 2 inc|       4|     39,531.70|\n",
      "| Thomas Wright 3 inc|       7|     39,502.42|\n",
      "|     Anna Glover inc|       9|     39,462.52|\n",
      "|  Ashley Schmidt inc|       9|     39,444.30|\n",
      "|      Larry Teig inc|       4|     39,432.73|\n",
      "|      Mike White inc|       1|     39,426.51|\n",
      "|Sandra Davenport inc|      22|     39,415.74|\n",
      "+--------------------+--------+--------------+\n",
      "only showing top 20 rows\n",
      "\n"
     ]
    }
   ],
   "source": [
    "parquet_file_path = \"historical-transactions.snappy.parquet\"\n",
    "csv_file_path = \"merchants-subset.csv\"\n",
    "\n",
    "df_grouped_state = joined_df.groupBy(\"final_state_id\", \"merchant_id\") \\\n",
    "                            .agg(F.avg(\"purchase_amount\").alias(\"avg_purchase_amount\"),\n",
    "                                 F.first(\"merchant_name\").alias(\"merchant_name\")) \\\n",
    "                            .orderBy(F.desc(\"avg_purchase_amount\"))\n",
    "\n",
    "df_grouped_state = df_grouped_state.withColumn(\"avg_purchase_amount\", F.format_number(\"avg_purchase_amount\", 2))\n",
    "\n",
    "df_merchant_state_avg_select = df_grouped_state.select(\n",
    "    F.col(\"merchant_name\").alias(\"Merchant\"),\n",
    "    F.col(\"final_state_id\").alias(\"State ID\"),\n",
    "    F.col(\"avg_purchase_amount\").alias(\"Average Amount\")\n",
    ")\n",
    "\n",
    "df_merchant_state_avg_select.show()"
   ]
  },
  {
   "cell_type": "markdown",
   "metadata": {},
   "source": [
    "### TOP THREE HOURS WHERE THE LARGEST AMOUNT OF SALES ARE RECORDED FOR EACH PRODUCT CATEGORY\n",
    "\n",
    "For each product category, we now have a clear view of the hours during which the highest amount of sales was recorded. These peak hours could indicate the times when customers are most engaged with that category, potentially influenced by their daily schedules or buying habits.\n",
    "\n",
    "This data could also be valuable for operational planning. Businesses could adjust staffing, inventory management, or delivery schedules based on the busiest hours for each category."
   ]
  },
  {
   "cell_type": "code",
   "execution_count": 33,
   "metadata": {},
   "outputs": [
    {
     "name": "stdout",
     "output_type": "stream",
     "text": [
      "+----------------+----+\n",
      "|Product Category|Hour|\n",
      "+----------------+----+\n",
      "|               A|  12|\n",
      "|               A|  13|\n",
      "|               A|  17|\n",
      "|               B|  13|\n",
      "|               B|  12|\n",
      "|               B|  14|\n",
      "|               C|  17|\n",
      "|               C|  16|\n",
      "|               C|  15|\n",
      "|Unknown category|   0|\n",
      "|Unknown category|  14|\n",
      "|Unknown category|  13|\n",
      "+----------------+----+\n",
      "\n"
     ]
    }
   ],
   "source": [
    "\n",
    "df_grouped_category = joined_df.groupBy(\"category\", \"hour\") \\\n",
    "                            .agg(F.sum(\"purchase_amount\").alias(\"total_sales\"))\n",
    "\n",
    "window_spec = Window.partitionBy(\"category\").orderBy(F.desc(\"total_sales\"))\n",
    "df_ranked = df_grouped_category.withColumn(\"rank\", F.rank().over(window_spec))\n",
    "\n",
    "df_top_3 = df_ranked.filter(F.col(\"rank\") <= 3)\n",
    "\n",
    "\n",
    "df_sorted_category = df_top_3.orderBy(F.col(\"category\").asc(),F.col(\"rank\").asc())\n",
    "\n",
    "df_sorted_category = df_sorted_category.withColumn(\"total_sales\", F.format_number(\"total_sales\", 2))\n",
    "\n",
    "df_category_select = df_sorted_category.select(\n",
    "    F.col(\"category\").alias(\"Product Category\"),\n",
    "    F.col(\"hour\").alias(\"Hour\")\n",
    ")\n",
    "df_category_select.show()\n",
    "\n",
    "\n",
    "\n"
   ]
  },
  {
   "cell_type": "markdown",
   "metadata": {},
   "source": [
    "Both **Category A** and **Category B** have significant sales during lunchtime hours (12 PM to 1 PM). This suggests that certain categories of products/services are in high demand during break times, likely due to their convenience or necessity during this period. **Category C** shows a peak during the late afternoon and evening hours, suggesting that this category might consist of products or services that align with leisure or post-work activities. This could be something like dining, entertainment, or other after-hours services."
   ]
  },
  {
   "cell_type": "markdown",
   "metadata": {},
   "source": [
    "### CITIES WITH THE MOST POPULAR MERCHANTS. CORRELATION BETWEEN LOCATION AND CATEGORIES THE MERCHANT SELLS.\n",
    "\n",
    "I first identified the most popular merchants by grouping the data based on the city and merchant ID. I calculated the total number of sales and the total sales amount for each merchant in each city and then ranked the cities based on the total number of sales.\n",
    "\n",
    "Next, I grouped the data by city and product category, counting the number of distinct merchants operating in each category across different cities. This helped identify cities with the highest concentration of merchants for each category."
   ]
  },
  {
   "cell_type": "code",
   "execution_count": 34,
   "metadata": {},
   "outputs": [
    {
     "name": "stdout",
     "output_type": "stream",
     "text": [
      "+-------------+--------+--------------+\n",
      "|final_city_id|category|merchant_count|\n",
      "+-------------+--------+--------------+\n",
      "|           69|       A|         16589|\n",
      "|           69|       B|         15467|\n",
      "|           19|       A|          9671|\n",
      "|          331|       A|          8206|\n",
      "|           19|       B|          7933|\n",
      "|          333|       A|          6771|\n",
      "|          331|       B|          6746|\n",
      "|            1|       B|          6700|\n",
      "|            1|       A|          6690|\n",
      "|          158|       A|          6662|\n",
      "|          158|       B|          6130|\n",
      "|          333|       B|          5446|\n",
      "|           69|       C|          5324|\n",
      "|           17|       A|          5143|\n",
      "|           57|       A|          4517|\n",
      "+-------------+--------+--------------+\n",
      "only showing top 15 rows\n",
      "\n"
     ]
    },
    {
     "data": {
      "image/png": "[encoded data removed]",
      "text/plain": [
       "<Figure size 1000x600 with 1 Axes>"
      ]
     },
     "metadata": {},
     "output_type": "display_data"
    },
    {
     "data": {
      "image/png": "[encoded data removed]",
      "text/plain": [
       "<Figure size 1000x600 with 1 Axes>"
      ]
     },
     "metadata": {},
     "output_type": "display_data"
    }
   ],
   "source": [
    "import matplotlib.pyplot as plt\n",
    "\n",
    "df_city_grouped_general = df_grouped.groupBy(\"final_city_id\", \"merchant_id\") \\\n",
    "                                   .agg(F.sum(\"no_of_sales\").alias(\"total_no_of_sales\"),\n",
    "                                        F.sum(\"total_sales\").alias(\"total_amount_sales\"))\n",
    "\n",
    "df_top_cities_sorted = df_city_grouped_general.orderBy(F.desc(\"total_no_of_sales\"))\n",
    "\n",
    "\n",
    "df_city_category_distribution = joined_df.groupBy(\"final_city_id\", \"category\") \\\n",
    "                                         .agg(F.countDistinct(\"merchant_id\").alias(\"merchant_count\"))\n",
    "\n",
    "df_city_category_distribution = df_city_category_distribution.orderBy(F.desc(\"merchant_count\"))\n",
    "df_city_category_distribution.show(15)\n",
    "\n",
    "df_top_cities_pd = df_top_cities_sorted.limit(30).toPandas()\n",
    "\n",
    "plt.figure(figsize=(10, 6))\n",
    "plt.bar(df_top_cities_pd['final_city_id'], df_top_cities_pd['total_no_of_sales'].astype(float), color='blue')\n",
    "plt.xlabel('City')\n",
    "plt.ylabel('Total Number of Sales')\n",
    "plt.title('Total Number of Sales by City')\n",
    "plt.xticks(df_top_cities_pd['final_city_id'], rotation=45)\n",
    "plt.tight_layout()\n",
    "plt.show()\n",
    "\n",
    "df_city_category_pd = df_city_category_distribution.limit(30).toPandas()\n",
    "\n",
    "plt.figure(figsize=(10, 6))\n",
    "plt.bar(df_city_category_pd['final_city_id'], df_city_category_pd['merchant_count'].astype(float), color='green')\n",
    "plt.xlabel('City')\n",
    "plt.ylabel('Number of Merchants by Category')\n",
    "plt.title('Number of Merchants per Category by City')\n",
    "plt.xticks(rotation=45)\n",
    "plt.show()\n"
   ]
  },
  {
   "cell_type": "markdown",
   "metadata": {},
   "source": [
    "**Observations:** \n",
    "- Cities 1 and 69 dominate the top 20 most popular merchants by sales volume.\n",
    "- Categories A and B have the highest number of distinct merchants in City 69, and they also appear in large number in City 1. (Most of the cities with the highest number of different merchants for categories A and B make the list of the most popular merchants.)\n",
    "- Category C also appears in both City 69 and City 1 with high number of different merchants that sell this category. \n",
    "\n",
    "Since the most popular merchants (with the highest transaction counts) are concentrated in Cities 1 and 69, it suggests that these cities are likely major economic hubs or regions with high purchasing power. The merchants in these cities dominate because the market environment is favorable for high-volume sales.\n",
    "\n",
    "The correlation between popular merchants and dominant categories (A and B) could indicate that merchants who specialize in these categories are more likely to be successful in Cities 1 and 69. Therefore, merchants operating in Categories A and B seem to benefit from the existing consumer demand in these cities. \n",
    "\n",
    "The presence of category C in these cities might as well that even though that category C might not be that popular, it can still suceeed in a bigger market like the cities 1 and 69 have."
   ]
  },
  {
   "cell_type": "markdown",
   "metadata": {},
   "source": [
    "### A new merchant is coming in to do business and you have been assigned to give advice based strictly on the historical transactions.\n",
    "\n",
    "a. Which cities would you advise them to focus on and why?\n",
    "- Almost all of the most popular merchants are located in the cities 1 and 69. All categories for these cities seem to be having many different merchants indicating a variety of different products of the same category. This market seems to already be well-formed and focusing these two cities seems like a right option since the targeted group of customers is already there.\n",
    "\n",
    "b. Which categories would you recommend they sell\n",
    "- The most popular categories are A nad B but in a bigger market category C seems to be doing very well. So if the choice is a city with a bigger market any category could potentially do well. If a merchant wants to start bussiness in a market with less popular merchants, categories A and B might be the best option since they seem to be more popular.\n",
    "\n",
    "\n",
    "c. Are there particular periods (months) that have interesting sales behaviors?\n",
    "- After examining the first report (merchant sales per month and city) we can see that there is a pattern where the sales start slow at the beginning of the year and gradually increase by the end of the year, with end of the year being peak of the sales. Business advice in this area would be to prepare for higher sales by the end of the year and plan their marketing campaings and staff logicsts accordingly."
   ]
  },
  {
   "cell_type": "code",
   "execution_count": 35,
   "metadata": {},
   "outputs": [
    {
     "name": "stdout",
     "output_type": "stream",
     "text": [
      "+--------+----+-------------------+--------------+-----------+\n",
      "|   Month|City|           Merchant|Purchase Total|No of sales|\n",
      "+--------+----+-------------------+--------------+-----------+\n",
      "|Jan 2017|  69|  John Miller 7 inc| 75,002,344.25|       3729|\n",
      "|Jan 2017|  69| Henry Barnhill inc| 33,787,651.58|       1678|\n",
      "|Jan 2017|  69|      June Gray inc| 22,671,668.50|       1099|\n",
      "|Jan 2017|  69|  Weston Hendon inc| 20,720,183.87|       1033|\n",
      "|Jan 2017|  69| Pamela Glass 2 inc| 15,672,753.16|        775|\n",
      "|Feb 2017|  69|  John Miller 7 inc|106,676,335.15|       5274|\n",
      "|Feb 2017|  69| Henry Barnhill inc| 41,114,808.89|       2039|\n",
      "|Feb 2017|  69|      June Gray inc| 24,687,075.03|       1213|\n",
      "|Feb 2017|  69|  Weston Hendon inc| 24,238,457.38|       1202|\n",
      "|Feb 2017|  69| Pamela Glass 2 inc| 16,023,776.02|        796|\n",
      "|Mar 2017|  69|  John Miller 7 inc|143,313,278.02|       7156|\n",
      "|Mar 2017|  69| Henry Barnhill inc| 49,810,328.81|       2498|\n",
      "|Mar 2017|  69|      June Gray inc| 32,593,436.09|       1595|\n",
      "|Mar 2017|  69|  Weston Hendon inc| 28,449,840.80|       1431|\n",
      "|Mar 2017|  69| Pamela Glass 2 inc| 19,249,119.66|        937|\n",
      "|Apr 2017|  69|  John Miller 7 inc|170,355,019.66|       8404|\n",
      "|Apr 2017|  69| Henry Barnhill inc| 44,665,026.45|       2217|\n",
      "|Apr 2017|  69|  Weston Hendon inc| 30,616,615.56|       1538|\n",
      "|Apr 2017|  69|      June Gray inc| 29,891,674.31|       1480|\n",
      "|Apr 2017|  69| Pamela Glass 2 inc| 17,622,509.56|        896|\n",
      "|May 2017|  69|  John Miller 7 inc|202,794,719.60|      10040|\n",
      "|May 2017|  69| Henry Barnhill inc| 51,262,577.91|       2566|\n",
      "|May 2017|  69|      June Gray inc| 31,922,995.95|       1582|\n",
      "|May 2017|  69|  Weston Hendon inc| 28,775,152.31|       1424|\n",
      "|May 2017|  69| Pamela Glass 2 inc| 20,099,813.12|        997|\n",
      "|Jun 2017|  69|  John Miller 7 inc|260,724,733.71|      12928|\n",
      "|Jun 2017|  69| Henry Barnhill inc| 52,322,328.46|       2583|\n",
      "|Jun 2017|  69|      June Gray inc| 34,011,032.10|       1702|\n",
      "|Jun 2017|  69|  Weston Hendon inc| 30,541,067.05|       1516|\n",
      "|Jun 2017|  69|Valerie Brown 2 inc| 21,217,724.50|       1016|\n",
      "|Jul 2017|  69|  John Miller 7 inc|329,220,611.82|      16391|\n",
      "|Jul 2017|  69| Henry Barnhill inc| 57,491,870.23|       2865|\n",
      "|Jul 2017|  69|      June Gray inc| 37,791,364.33|       1893|\n",
      "|Jul 2017|  69|  Weston Hendon inc| 35,722,037.01|       1793|\n",
      "|Jul 2017|  69| Pamela Glass 2 inc| 23,542,873.61|       1180|\n",
      "|Aug 2017|  69|  John Miller 7 inc|395,039,117.65|      19766|\n",
      "|Aug 2017|  69| Henry Barnhill inc| 70,243,717.38|       3499|\n",
      "|Aug 2017|  69|      June Gray inc| 47,114,672.06|       2354|\n",
      "|Aug 2017|  69|  Weston Hendon inc| 41,077,733.73|       2038|\n",
      "|Aug 2017|  69| Pamela Glass 2 inc| 27,617,134.14|       1369|\n",
      "|Sep 2017|  69|  John Miller 7 inc|485,053,240.01|      24160|\n",
      "|Sep 2017|  69| Henry Barnhill inc| 77,228,512.27|       3878|\n",
      "|Sep 2017|  69|      June Gray inc| 49,439,415.62|       2409|\n",
      "|Sep 2017|  69|  Weston Hendon inc| 43,173,616.27|       2129|\n",
      "|Sep 2017|  69|  Todd Turner 3 inc| 36,984,306.09|       1845|\n",
      "|Oct 2017|  69|  John Miller 7 inc|529,078,353.86|      26444|\n",
      "|Oct 2017|  69|  Todd Turner 3 inc|109,962,665.30|       5505|\n",
      "|Oct 2017|  69| Henry Barnhill inc| 73,337,331.69|       3625|\n",
      "|Oct 2017|  69|      June Gray inc| 48,951,622.35|       2415|\n",
      "|Oct 2017|  69|  Weston Hendon inc| 48,370,340.07|       2392|\n",
      "|Nov 2017|  69|  John Miller 7 inc|617,123,291.47|      30739|\n",
      "|Nov 2017|  69|  Todd Turner 3 inc|181,596,066.40|       9086|\n",
      "|Nov 2017|  69| Henry Barnhill inc| 81,489,792.99|       4041|\n",
      "|Nov 2017|  69|   Tammy Nieves inc| 62,395,628.78|       3104|\n",
      "|Nov 2017|  69|  Weston Hendon inc| 53,835,209.46|       2697|\n",
      "|Dec 2017|  69|  John Miller 7 inc|773,778,308.72|      38508|\n",
      "|Dec 2017|  69|  Todd Turner 3 inc|284,687,226.37|      14121|\n",
      "|Dec 2017|  69|   Tammy Nieves inc| 94,425,206.71|       4685|\n",
      "|Dec 2017|  69| Henry Barnhill inc| 82,427,332.62|       4165|\n",
      "|Dec 2017|  69|      June Gray inc| 55,575,820.06|       2746|\n",
      "+--------+----+-------------------+--------------+-----------+\n",
      "\n"
     ]
    }
   ],
   "source": [
    "df_final_report_select.filter((F.col(\"Month\").like(\"%2017\")) & (F.col(\"City\") == 69)).show(60)"
   ]
  },
  {
   "cell_type": "markdown",
   "metadata": {},
   "source": [
    "d. What hours would you recommend they open and close for the day?\n",
    "- As per category-hour report we can see that **this would depend on the category the merchant plans to sell**. **Category B** being very much fixed to the lunch hours is indicating bussiness should center around these. Mostly the same applies if the choice is **category A**. So for these two categories I would want a business to work **around the time most of the people work** (9-18, 10-17, 11-18). Category C seems to have peak in the after-work hours, so opening and closing a bit later is recommended. (~12-21)\n",
    "\n",
    "e. Would you recommend accepting payments in installments? Assume a credit default\n",
    "rate of 22.9% per month.\n",
    "For this question, consider the “installments” header in the historical transactions and the\n",
    "impact it may have, if any, on merchant sales (merchant sales in terms of\n",
    "purchase_amounts). We are making a simplistic assumption that 25% of sales is gross\n",
    "profit to merchants, there are equal installments and everyone who defaulted did so after\n",
    "making half payment."
   ]
  },
  {
   "cell_type": "code",
   "execution_count": 36,
   "metadata": {},
   "outputs": [
    {
     "name": "stdout",
     "output_type": "stream",
     "text": [
      "+------------+------------------+-----------------+-------------------+\n",
      "|installments|no_of_transactions|      total_sales|avg_purchase_amount|\n",
      "+------------+------------------+-----------------+-------------------+\n",
      "|           0|           3851127|77,420,316,951.26| 20103.288453292447|\n",
      "|           7|              2774|    55,153,412.37| 19882.268338139893|\n",
      "|           6|             32739|   660,874,202.89| 20186.145052995013|\n",
      "|           9|              1338|    26,402,580.43|  19732.87027653212|\n",
      "|           5|             29063|   584,764,330.16|  20120.57702783631|\n",
      "|           1|           2963487|59,559,520,118.54| 20097.783495772193|\n",
      "|          10|             29188|   588,215,815.88| 20152.659170892388|\n",
      "|           3|            134482| 2,707,520,300.01|  20132.95682700941|\n",
      "|          12|             13512|   272,467,948.12| 20164.886628182336|\n",
      "|           8|              4976|   100,143,943.63|  20125.39060088423|\n",
      "|          11|               195|     3,939,376.32|  20201.92984615385|\n",
      "|           2|            166738| 3,349,604,814.97| 20089.030784643484|\n",
      "|           4|             44698|   898,203,620.32|  20094.93982549528|\n",
      "|         999|                50|       944,204.20|          18884.084|\n",
      "+------------+------------------+-----------------+-------------------+\n",
      "\n"
     ]
    }
   ],
   "source": [
    "df_installment_analysis = joined_df.groupBy(\"installments\") \\\n",
    "                                   .agg(F.count(\"installments\").alias(\"no_of_transactions\"),\n",
    "                                        F.sum(\"purchase_amount\").alias(\"total_sales\"),\n",
    "                                        F.avg(\"purchase_amount\").alias(\"avg_purchase_amount\"))\n",
    "df_installment_analysis = df_installment_analysis.withColumn(\"total_sales\", F.format_number(\"total_sales\", 2))\n",
    "\n",
    "\n",
    "df_installment_analysis.show()\n"
   ]
  },
  {
   "cell_type": "markdown",
   "metadata": {},
   "source": [
    "Based on the result of the previous report we can see that the majority of transactions were done without installments. We can also see that installments do not lead to higher purchase."
   ]
  },
  {
   "cell_type": "code",
   "execution_count": 37,
   "metadata": {},
   "outputs": [
    {
     "name": "stdout",
     "output_type": "stream",
     "text": [
      "Total Installment Sales: 68,807,754,667.85\n",
      "Gross Profit (before defaults): 17,201,938,666.96\n",
      "Loss Due to Defaults: 7,878,487,909.47\n",
      "Adjusted Profit (after defaults): 9,323,450,757.49\n"
     ]
    }
   ],
   "source": [
    "default_rate = 0.229\n",
    "half_payment = 0.5\n",
    "gross_profit_percentage = 0.25\n",
    "\n",
    "df_installment_sales = joined_df.filter(F.col(\"installments\") > 0) \\\n",
    "                                .agg(F.sum(\"purchase_amount\").alias(\"total_installment_sales\")).collect()[0][0]\n",
    "\n",
    "loss_due_to_defaults = df_installment_sales * default_rate * (1 - half_payment)\n",
    "\n",
    "gross_profit = df_installment_sales * gross_profit_percentage\n",
    "\n",
    "adjusted_profit = gross_profit - loss_due_to_defaults\n",
    "\n",
    "print(f\"Total Installment Sales: {df_installment_sales:,.2f}\")\n",
    "print(f\"Gross Profit (before defaults): {gross_profit:,.2f}\")\n",
    "print(f\"Loss Due to Defaults: {loss_due_to_defaults:,.2f}\")\n",
    "print(f\"Adjusted Profit (after defaults): {adjusted_profit:,.2f}\")\n"
   ]
  },
  {
   "cell_type": "markdown",
   "metadata": {},
   "source": [
    "Since the average purchase amount for installments is not different than regular transactions purchase amount, new merchant should consider limiting installments to certain users or not including them at all, as they include additional risk with non-complete payments and do not generate increased sales. "
   ]
  }
 ],
 "metadata": {
  "kernelspec": {
   "display_name": ".env",
   "language": "python",
   "name": "python3"
  },
  "language_info": {
   "codemirror_mode": {
    "name": "ipython",
    "version": 3
   },
   "file_extension": ".py",
   "mimetype": "text/x-python",
   "name": "python",
   "nbconvert_exporter": "python",
   "pygments_lexer": "ipython3",
   "version": "3.11.9"
  }
 },
 "nbformat": 4,
 "nbformat_minor": 2
}
